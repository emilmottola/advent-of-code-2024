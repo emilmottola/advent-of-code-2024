{
 "cells": [
  {
   "cell_type": "code",
   "execution_count": 5,
   "metadata": {},
   "outputs": [],
   "source": [
    "import re"
   ]
  },
  {
   "cell_type": "code",
   "execution_count": 65,
   "metadata": {},
   "outputs": [],
   "source": [
    "# Test Data\n",
    "# file_path = \"day3_test.txt\"\n",
    "\n",
    "# Real Data\n",
    "file_path = \"day3.txt\"\n",
    "\n",
    "with open(file_path, \"r\") as file:\n",
    "    data = file.read()"
   ]
  },
  {
   "cell_type": "markdown",
   "metadata": {},
   "source": [
    "# Part 1"
   ]
  },
  {
   "cell_type": "code",
   "execution_count": 73,
   "metadata": {},
   "outputs": [],
   "source": [
    "matches = re.findall(r\"mul\\((\\d{1,3}),(\\d{1,3})\\)\", data)\n",
    "# matches"
   ]
  },
  {
   "cell_type": "code",
   "execution_count": 74,
   "metadata": {},
   "outputs": [
    {
     "data": {
      "text/plain": [
       "161085926"
      ]
     },
     "execution_count": 74,
     "metadata": {},
     "output_type": "execute_result"
    }
   ],
   "source": [
    "sum = 0\n",
    "for match in matches:\n",
    "    mul = int(match[0]) * int(match[1])\n",
    "    sum += mul\n",
    "sum"
   ]
  },
  {
   "cell_type": "markdown",
   "metadata": {},
   "source": [
    "# Part 2"
   ]
  },
  {
   "cell_type": "code",
   "execution_count": 75,
   "metadata": {},
   "outputs": [
    {
     "data": {
      "text/plain": [
       "82045421"
      ]
     },
     "execution_count": 75,
     "metadata": {},
     "output_type": "execute_result"
    }
   ],
   "source": [
    "matches = re.finditer(r\"mul\\((\\d{1,3}),(\\d{1,3})\\)|do\\(\\)()()|don't\\(\\)()()\", data)\n",
    "\n",
    "latest = 1\n",
    "sum = 0\n",
    "for match in matches:\n",
    "    # print(match.group(0))\n",
    "    if match.group(0)==\"don't()\":\n",
    "        latest = 0\n",
    "    elif match.group(0)==\"do()\":\n",
    "        latest = 1\n",
    "    else: \n",
    "        if latest:\n",
    "            mul = int(match.group(1)) * int(match.group(2))\n",
    "            sum += mul\n",
    "sum"
   ]
  }
 ],
 "metadata": {
  "kernelspec": {
   "display_name": "Python 3",
   "language": "python",
   "name": "python3"
  },
  "language_info": {
   "codemirror_mode": {
    "name": "ipython",
    "version": 3
   },
   "file_extension": ".py",
   "mimetype": "text/x-python",
   "name": "python",
   "nbconvert_exporter": "python",
   "pygments_lexer": "ipython3",
   "version": "3.12.2"
  }
 },
 "nbformat": 4,
 "nbformat_minor": 2
}
