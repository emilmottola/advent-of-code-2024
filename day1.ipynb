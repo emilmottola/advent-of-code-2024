{
 "cells": [
  {
   "cell_type": "code",
   "execution_count": 13,
   "metadata": {},
   "outputs": [],
   "source": [
    "# Test Data\n",
    "# file_path = \"day1_test.txt\"\n",
    "\n",
    "# Real Data\n",
    "file_path = \"day1.txt\"\n",
    "\n",
    "list_1 = []\n",
    "list_2 = []\n",
    "\n",
    "with open(file_path, \"r\") as file:\n",
    "    for line in file:\n",
    "        # Split each line into two numbers\n",
    "        values = line.strip().split()\n",
    "        if len(values) == 2:\n",
    "            # Add the values to the corresponding lists\n",
    "            list_1.append(int(values[0]))\n",
    "            list_2.append(int(values[1]))\n",
    "\n",
    "sorted_1 = sorted(list_1)\n",
    "sorted_2 = sorted(list_2)"
   ]
  },
  {
   "cell_type": "markdown",
   "metadata": {},
   "source": [
    "# Part 1"
   ]
  },
  {
   "cell_type": "code",
   "execution_count": 10,
   "metadata": {},
   "outputs": [],
   "source": [
    "dists = 0\n",
    "for i in range(len(sorted_1)):\n",
    "    dist = abs(sorted_2[i] - sorted_1[i])\n",
    "    dists+=dist\n"
   ]
  },
  {
   "cell_type": "code",
   "execution_count": 11,
   "metadata": {},
   "outputs": [
    {
     "data": {
      "text/plain": [
       "1879059"
      ]
     },
     "execution_count": 11,
     "metadata": {},
     "output_type": "execute_result"
    }
   ],
   "source": [
    "dists"
   ]
  },
  {
   "cell_type": "markdown",
   "metadata": {},
   "source": [
    "# Part 2"
   ]
  },
  {
   "cell_type": "code",
   "execution_count": 33,
   "metadata": {},
   "outputs": [],
   "source": [
    "counts_1 = {}\n",
    "counts_2 = {}\n",
    "for i in range(len(sorted_1)):\n",
    "    if sorted_1[i] in counts_1:\n",
    "        counts_1[sorted_1[i]] += 1\n",
    "    else:\n",
    "        counts_1[sorted_1[i]] = 1\n",
    "\n",
    "    if sorted_2[i] in counts_2:\n",
    "        counts_2[sorted_2[i]] += 1\n",
    "    else:\n",
    "        counts_2[sorted_2[i]] = 1\n"
   ]
  },
  {
   "cell_type": "code",
   "execution_count": 35,
   "metadata": {},
   "outputs": [],
   "source": [
    "score = 0\n",
    "for num in counts_1:\n",
    "    if num not in counts_2:\n",
    "        counts_2[num] = 0\n",
    "    score_change = num * counts_1[num] * counts_2[num]\n",
    "    score += score_change"
   ]
  },
  {
   "cell_type": "code",
   "execution_count": 36,
   "metadata": {},
   "outputs": [
    {
     "data": {
      "text/plain": [
       "21024792"
      ]
     },
     "execution_count": 36,
     "metadata": {},
     "output_type": "execute_result"
    }
   ],
   "source": [
    "score"
   ]
  },
  {
   "cell_type": "code",
   "execution_count": null,
   "metadata": {},
   "outputs": [],
   "source": []
  }
 ],
 "metadata": {
  "kernelspec": {
   "display_name": "Python 3",
   "language": "python",
   "name": "python3"
  },
  "language_info": {
   "codemirror_mode": {
    "name": "ipython",
    "version": 3
   },
   "file_extension": ".py",
   "mimetype": "text/x-python",
   "name": "python",
   "nbconvert_exporter": "python",
   "pygments_lexer": "ipython3",
   "version": "3.12.2"
  }
 },
 "nbformat": 4,
 "nbformat_minor": 2
}
